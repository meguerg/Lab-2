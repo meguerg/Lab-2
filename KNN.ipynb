{
  "nbformat": 4,
  "nbformat_minor": 0,
  "metadata": {
    "colab": {
      "provenance": [],
      "include_colab_link": true
    },
    "kernelspec": {
      "name": "python3",
      "display_name": "Python 3"
    },
    "language_info": {
      "name": "python"
    }
  },
  "cells": [
    {
      "cell_type": "markdown",
      "metadata": {
        "id": "view-in-github",
        "colab_type": "text"
      },
      "source": [
        "<a href=\"https://colab.research.google.com/github/meguerg/lab-4KNN/blob/main/KNN.ipynb\" target=\"_parent\"><img src=\"https://colab.research.google.com/assets/colab-badge.svg\" alt=\"Open In Colab\"/></a>"
      ]
    },
    {
      "cell_type": "markdown",
      "source": [
        "**K-Nearest Neighbors Algorithm**"
      ],
      "metadata": {
        "id": "p_3HMLoGKcGy"
      }
    },
    {
      "cell_type": "code",
      "execution_count": null,
      "metadata": {
        "id": "9BN2qSx70MxW"
      },
      "outputs": [],
      "source": [
        "from google.colab import drive"
      ]
    },
    {
      "cell_type": "code",
      "source": [
        "drive.mount('/content/drive')"
      ],
      "metadata": {
        "colab": {
          "base_uri": "https://localhost:8080/"
        },
        "id": "OCIwqK8m0h4M",
        "outputId": "530b02ba-8463-46ef-a664-8efac64c85a5"
      },
      "execution_count": null,
      "outputs": [
        {
          "output_type": "stream",
          "name": "stdout",
          "text": [
            "Mounted at /content/drive\n"
          ]
        }
      ]
    },
    {
      "cell_type": "code",
      "source": [
        "!pip install pyspark"
      ],
      "metadata": {
        "colab": {
          "base_uri": "https://localhost:8080/"
        },
        "id": "v_QQn6Vz0PtD",
        "outputId": "c0a84b9c-f5e8-454e-d56f-15a7a2c3eb3a"
      },
      "execution_count": null,
      "outputs": [
        {
          "output_type": "stream",
          "name": "stdout",
          "text": [
            "Collecting pyspark\n",
            "  Downloading pyspark-3.5.0.tar.gz (316.9 MB)\n",
            "\u001b[2K     \u001b[90m━━━━━━━━━━━━━━━━━━━━━━━━━━━━━━━━━━━━━━━━\u001b[0m \u001b[32m316.9/316.9 MB\u001b[0m \u001b[31m4.3 MB/s\u001b[0m eta \u001b[36m0:00:00\u001b[0m\n",
            "\u001b[?25h  Preparing metadata (setup.py) ... \u001b[?25l\u001b[?25hdone\n",
            "Requirement already satisfied: py4j==0.10.9.7 in /usr/local/lib/python3.10/dist-packages (from pyspark) (0.10.9.7)\n",
            "Building wheels for collected packages: pyspark\n",
            "  Building wheel for pyspark (setup.py) ... \u001b[?25l\u001b[?25hdone\n",
            "  Created wheel for pyspark: filename=pyspark-3.5.0-py2.py3-none-any.whl size=317425345 sha256=7e4eb0d5e772fa39f0298cf5a4af835de5043b1f31a16ec929e158633a2278da\n",
            "  Stored in directory: /root/.cache/pip/wheels/41/4e/10/c2cf2467f71c678cfc8a6b9ac9241e5e44a01940da8fbb17fc\n",
            "Successfully built pyspark\n",
            "Installing collected packages: pyspark\n",
            "Successfully installed pyspark-3.5.0\n"
          ]
        }
      ]
    },
    {
      "cell_type": "code",
      "source": [
        "!pip install scikit-learn\n"
      ],
      "metadata": {
        "colab": {
          "base_uri": "https://localhost:8080/"
        },
        "id": "GSvfJXuPRY2B",
        "outputId": "0f3afe74-e36a-4e1d-e1c9-f03ab362d1c0"
      },
      "execution_count": null,
      "outputs": [
        {
          "output_type": "stream",
          "name": "stdout",
          "text": [
            "Requirement already satisfied: scikit-learn in /usr/local/lib/python3.10/dist-packages (1.2.2)\n",
            "Requirement already satisfied: numpy>=1.17.3 in /usr/local/lib/python3.10/dist-packages (from scikit-learn) (1.23.5)\n",
            "Requirement already satisfied: scipy>=1.3.2 in /usr/local/lib/python3.10/dist-packages (from scikit-learn) (1.11.4)\n",
            "Requirement already satisfied: joblib>=1.1.1 in /usr/local/lib/python3.10/dist-packages (from scikit-learn) (1.3.2)\n",
            "Requirement already satisfied: threadpoolctl>=2.0.0 in /usr/local/lib/python3.10/dist-packages (from scikit-learn) (3.2.0)\n"
          ]
        }
      ]
    },
    {
      "cell_type": "code",
      "source": [
        "from pyspark.sql import SparkSession"
      ],
      "metadata": {
        "id": "jgoxJPa_0Rdb"
      },
      "execution_count": null,
      "outputs": []
    },
    {
      "cell_type": "code",
      "source": [
        "from pyspark.sql.functions import *"
      ],
      "metadata": {
        "id": "YoXYm8QV2FeI"
      },
      "execution_count": null,
      "outputs": []
    },
    {
      "cell_type": "code",
      "source": [
        "from pyspark.sql import SparkSession\n",
        "from pyspark.ml.feature import VectorAssembler\n",
        "from pyspark.ml.evaluation import MulticlassClassificationEvaluator\n",
        "from pyspark.sql import functions as F\n",
        "import matplotlib.pyplot as plt\n",
        "from sklearn.neighbors import KNeighborsClassifier\n",
        "from sklearn.model_selection import cross_val_score\n",
        "import pandas as pd\n",
        "import numpy as np"
      ],
      "metadata": {
        "id": "kVxm5c1E0fAz"
      },
      "execution_count": null,
      "outputs": []
    },
    {
      "cell_type": "code",
      "source": [
        "spark = SparkSession.builder.appName(\"KNNExample\").getOrCreate()"
      ],
      "metadata": {
        "id": "pZqFfVyY0wtW"
      },
      "execution_count": null,
      "outputs": []
    },
    {
      "cell_type": "code",
      "source": [
        "df = spark.read.csv(\"/content/train.csv\", header=True, inferSchema=True)"
      ],
      "metadata": {
        "id": "yGwt1vy3011Y"
      },
      "execution_count": null,
      "outputs": []
    },
    {
      "cell_type": "code",
      "source": [
        "selected_columns = [\"Survived\", \"Pclass\", \"Sex\", \"Age\", \"SibSp\", \"Parch\", \"Fare\"]\n",
        "df = df.select(selected_columns)"
      ],
      "metadata": {
        "id": "XTUDa3H81D6o"
      },
      "execution_count": null,
      "outputs": []
    },
    {
      "cell_type": "code",
      "source": [
        "df.show()"
      ],
      "metadata": {
        "colab": {
          "base_uri": "https://localhost:8080/"
        },
        "id": "cNyeZSMBS-L6",
        "outputId": "6df1fb33-95f2-4e4a-88bc-dbcdd7e5f43f"
      },
      "execution_count": null,
      "outputs": [
        {
          "output_type": "stream",
          "name": "stdout",
          "text": [
            "+--------+------+------+----+-----+-----+-------+\n",
            "|Survived|Pclass|   Sex| Age|SibSp|Parch|   Fare|\n",
            "+--------+------+------+----+-----+-----+-------+\n",
            "|       0|     3|  male|22.0|    1|    0|   7.25|\n",
            "|       1|     1|female|38.0|    1|    0|71.2833|\n",
            "|       1|     3|female|26.0|    0|    0|  7.925|\n",
            "|       1|     1|female|35.0|    1|    0|   53.1|\n",
            "|       0|     3|  male|35.0|    0|    0|   8.05|\n",
            "|       0|     3|  male|NULL|    0|    0| 8.4583|\n",
            "|       0|     1|  male|54.0|    0|    0|51.8625|\n",
            "|       0|     3|  male| 2.0|    3|    1| 21.075|\n",
            "|       1|     3|female|27.0|    0|    2|11.1333|\n",
            "|       1|     2|female|14.0|    1|    0|30.0708|\n",
            "|       1|     3|female| 4.0|    1|    1|   16.7|\n",
            "|       1|     1|female|58.0|    0|    0|  26.55|\n",
            "|       0|     3|  male|20.0|    0|    0|   8.05|\n",
            "|       0|     3|  male|39.0|    1|    5| 31.275|\n",
            "|       0|     3|female|14.0|    0|    0| 7.8542|\n",
            "|       1|     2|female|55.0|    0|    0|   16.0|\n",
            "|       0|     3|  male| 2.0|    4|    1| 29.125|\n",
            "|       1|     2|  male|NULL|    0|    0|   13.0|\n",
            "|       0|     3|female|31.0|    1|    0|   18.0|\n",
            "|       1|     3|female|NULL|    0|    0|  7.225|\n",
            "+--------+------+------+----+-----+-----+-------+\n",
            "only showing top 20 rows\n",
            "\n"
          ]
        }
      ]
    },
    {
      "cell_type": "code",
      "source": [
        "df = df.na.drop()"
      ],
      "metadata": {
        "id": "jBE3pws-1GlD"
      },
      "execution_count": null,
      "outputs": []
    },
    {
      "cell_type": "code",
      "source": [
        "df.show()"
      ],
      "metadata": {
        "colab": {
          "base_uri": "https://localhost:8080/"
        },
        "id": "i0RDka1C4OJL",
        "outputId": "b7b8c892-30d1-4c98-97c2-0730e38534e6"
      },
      "execution_count": null,
      "outputs": [
        {
          "output_type": "stream",
          "name": "stdout",
          "text": [
            "+--------+------+------+----+-----+-----+-------+\n",
            "|Survived|Pclass|   Sex| Age|SibSp|Parch|   Fare|\n",
            "+--------+------+------+----+-----+-----+-------+\n",
            "|       0|     3|  male|22.0|    1|    0|   7.25|\n",
            "|       1|     1|female|38.0|    1|    0|71.2833|\n",
            "|       1|     3|female|26.0|    0|    0|  7.925|\n",
            "|       1|     1|female|35.0|    1|    0|   53.1|\n",
            "|       0|     3|  male|35.0|    0|    0|   8.05|\n",
            "|       0|     1|  male|54.0|    0|    0|51.8625|\n",
            "|       0|     3|  male| 2.0|    3|    1| 21.075|\n",
            "|       1|     3|female|27.0|    0|    2|11.1333|\n",
            "|       1|     2|female|14.0|    1|    0|30.0708|\n",
            "|       1|     3|female| 4.0|    1|    1|   16.7|\n",
            "|       1|     1|female|58.0|    0|    0|  26.55|\n",
            "|       0|     3|  male|20.0|    0|    0|   8.05|\n",
            "|       0|     3|  male|39.0|    1|    5| 31.275|\n",
            "|       0|     3|female|14.0|    0|    0| 7.8542|\n",
            "|       1|     2|female|55.0|    0|    0|   16.0|\n",
            "|       0|     3|  male| 2.0|    4|    1| 29.125|\n",
            "|       0|     3|female|31.0|    1|    0|   18.0|\n",
            "|       0|     2|  male|35.0|    0|    0|   26.0|\n",
            "|       1|     2|  male|34.0|    0|    0|   13.0|\n",
            "|       1|     3|female|15.0|    0|    0| 8.0292|\n",
            "+--------+------+------+----+-----+-----+-------+\n",
            "only showing top 20 rows\n",
            "\n"
          ]
        }
      ]
    },
    {
      "cell_type": "code",
      "source": [
        "df = df.withColumn(\"Sex\", F.when(df[\"Sex\"] == \"male\", 0).otherwise(1))"
      ],
      "metadata": {
        "id": "6MyYVIQH1s0X"
      },
      "execution_count": null,
      "outputs": []
    },
    {
      "cell_type": "code",
      "source": [
        "df.show()"
      ],
      "metadata": {
        "colab": {
          "base_uri": "https://localhost:8080/"
        },
        "id": "lcmP_7zwTa9U",
        "outputId": "0e879f8f-4798-4c69-f766-4d533a1df89c"
      },
      "execution_count": null,
      "outputs": [
        {
          "output_type": "stream",
          "name": "stdout",
          "text": [
            "+--------+------+---+----+-----+-----+-------+\n",
            "|Survived|Pclass|Sex| Age|SibSp|Parch|   Fare|\n",
            "+--------+------+---+----+-----+-----+-------+\n",
            "|       0|     3|  0|22.0|    1|    0|   7.25|\n",
            "|       1|     1|  1|38.0|    1|    0|71.2833|\n",
            "|       1|     3|  1|26.0|    0|    0|  7.925|\n",
            "|       1|     1|  1|35.0|    1|    0|   53.1|\n",
            "|       0|     3|  0|35.0|    0|    0|   8.05|\n",
            "|       0|     1|  0|54.0|    0|    0|51.8625|\n",
            "|       0|     3|  0| 2.0|    3|    1| 21.075|\n",
            "|       1|     3|  1|27.0|    0|    2|11.1333|\n",
            "|       1|     2|  1|14.0|    1|    0|30.0708|\n",
            "|       1|     3|  1| 4.0|    1|    1|   16.7|\n",
            "|       1|     1|  1|58.0|    0|    0|  26.55|\n",
            "|       0|     3|  0|20.0|    0|    0|   8.05|\n",
            "|       0|     3|  0|39.0|    1|    5| 31.275|\n",
            "|       0|     3|  1|14.0|    0|    0| 7.8542|\n",
            "|       1|     2|  1|55.0|    0|    0|   16.0|\n",
            "|       0|     3|  0| 2.0|    4|    1| 29.125|\n",
            "|       0|     3|  1|31.0|    1|    0|   18.0|\n",
            "|       0|     2|  0|35.0|    0|    0|   26.0|\n",
            "|       1|     2|  0|34.0|    0|    0|   13.0|\n",
            "|       1|     3|  1|15.0|    0|    0| 8.0292|\n",
            "+--------+------+---+----+-----+-----+-------+\n",
            "only showing top 20 rows\n",
            "\n"
          ]
        }
      ]
    },
    {
      "cell_type": "code",
      "source": [
        "assembler = VectorAssembler(\n",
        "    inputCols=[\"Pclass\", \"Sex\", \"Age\", \"SibSp\", \"Parch\", \"Fare\"],\n",
        "    outputCol=\"features\"\n",
        ")\n",
        "df = assembler.transform(df)"
      ],
      "metadata": {
        "id": "ShH17OiJRyhr"
      },
      "execution_count": null,
      "outputs": []
    },
    {
      "cell_type": "code",
      "source": [
        "df=df.withColumn('Age',df['Age'].cast('Integer'))\n",
        "df=df.withColumn('Fare',df['Fare'].cast('Integer'))"
      ],
      "metadata": {
        "id": "ZlTXN2--TybY"
      },
      "execution_count": null,
      "outputs": []
    },
    {
      "cell_type": "code",
      "source": [
        "df.show()"
      ],
      "metadata": {
        "colab": {
          "base_uri": "https://localhost:8080/"
        },
        "id": "DWAZoKyg4T0Z",
        "outputId": "84a84dff-7c1d-4608-8ea4-abcd88ccf1dd"
      },
      "execution_count": null,
      "outputs": [
        {
          "output_type": "stream",
          "name": "stdout",
          "text": [
            "+--------+------+---+---+-----+-----+----+--------------------+\n",
            "|Survived|Pclass|Sex|Age|SibSp|Parch|Fare|            features|\n",
            "+--------+------+---+---+-----+-----+----+--------------------+\n",
            "|       0|     3|  0| 22|    1|    0|   7|[3.0,0.0,22.0,1.0...|\n",
            "|       1|     1|  1| 38|    1|    0|  71|[1.0,1.0,38.0,1.0...|\n",
            "|       1|     3|  1| 26|    0|    0|   7|[3.0,1.0,26.0,0.0...|\n",
            "|       1|     1|  1| 35|    1|    0|  53|[1.0,1.0,35.0,1.0...|\n",
            "|       0|     3|  0| 35|    0|    0|   8|[3.0,0.0,35.0,0.0...|\n",
            "|       0|     1|  0| 54|    0|    0|  51|[1.0,0.0,54.0,0.0...|\n",
            "|       0|     3|  0|  2|    3|    1|  21|[3.0,0.0,2.0,3.0,...|\n",
            "|       1|     3|  1| 27|    0|    2|  11|[3.0,1.0,27.0,0.0...|\n",
            "|       1|     2|  1| 14|    1|    0|  30|[2.0,1.0,14.0,1.0...|\n",
            "|       1|     3|  1|  4|    1|    1|  16|[3.0,1.0,4.0,1.0,...|\n",
            "|       1|     1|  1| 58|    0|    0|  26|[1.0,1.0,58.0,0.0...|\n",
            "|       0|     3|  0| 20|    0|    0|   8|[3.0,0.0,20.0,0.0...|\n",
            "|       0|     3|  0| 39|    1|    5|  31|[3.0,0.0,39.0,1.0...|\n",
            "|       0|     3|  1| 14|    0|    0|   7|[3.0,1.0,14.0,0.0...|\n",
            "|       1|     2|  1| 55|    0|    0|  16|[2.0,1.0,55.0,0.0...|\n",
            "|       0|     3|  0|  2|    4|    1|  29|[3.0,0.0,2.0,4.0,...|\n",
            "|       0|     3|  1| 31|    1|    0|  18|[3.0,1.0,31.0,1.0...|\n",
            "|       0|     2|  0| 35|    0|    0|  26|[2.0,0.0,35.0,0.0...|\n",
            "|       1|     2|  0| 34|    0|    0|  13|[2.0,0.0,34.0,0.0...|\n",
            "|       1|     3|  1| 15|    0|    0|   8|[3.0,1.0,15.0,0.0...|\n",
            "+--------+------+---+---+-----+-----+----+--------------------+\n",
            "only showing top 20 rows\n",
            "\n"
          ]
        }
      ]
    },
    {
      "cell_type": "code",
      "source": [
        "mean_values = df.agg(*[F.mean(c).alias(c) for c in df.columns if c != \"features\"]).collect()[0]\n",
        "stddev_values = df.agg(*[F.stddev(c).alias(c) for c in df.columns if c != \"features\"]).collect()[0]\n"
      ],
      "metadata": {
        "id": "cWPKStWBR01g"
      },
      "execution_count": null,
      "outputs": []
    },
    {
      "cell_type": "code",
      "source": [
        "df.show()"
      ],
      "metadata": {
        "colab": {
          "base_uri": "https://localhost:8080/"
        },
        "id": "F5GufMVC4YpA",
        "outputId": "78f33437-ba6b-4602-ee16-910a96a424e2"
      },
      "execution_count": null,
      "outputs": [
        {
          "output_type": "stream",
          "name": "stdout",
          "text": [
            "+--------+------+---+---+-----+-----+----+--------------------+\n",
            "|Survived|Pclass|Sex|Age|SibSp|Parch|Fare|            features|\n",
            "+--------+------+---+---+-----+-----+----+--------------------+\n",
            "|       0|     3|  0| 22|    1|    0|   7|[3.0,0.0,22.0,1.0...|\n",
            "|       1|     1|  1| 38|    1|    0|  71|[1.0,1.0,38.0,1.0...|\n",
            "|       1|     3|  1| 26|    0|    0|   7|[3.0,1.0,26.0,0.0...|\n",
            "|       1|     1|  1| 35|    1|    0|  53|[1.0,1.0,35.0,1.0...|\n",
            "|       0|     3|  0| 35|    0|    0|   8|[3.0,0.0,35.0,0.0...|\n",
            "|       0|     1|  0| 54|    0|    0|  51|[1.0,0.0,54.0,0.0...|\n",
            "|       0|     3|  0|  2|    3|    1|  21|[3.0,0.0,2.0,3.0,...|\n",
            "|       1|     3|  1| 27|    0|    2|  11|[3.0,1.0,27.0,0.0...|\n",
            "|       1|     2|  1| 14|    1|    0|  30|[2.0,1.0,14.0,1.0...|\n",
            "|       1|     3|  1|  4|    1|    1|  16|[3.0,1.0,4.0,1.0,...|\n",
            "|       1|     1|  1| 58|    0|    0|  26|[1.0,1.0,58.0,0.0...|\n",
            "|       0|     3|  0| 20|    0|    0|   8|[3.0,0.0,20.0,0.0...|\n",
            "|       0|     3|  0| 39|    1|    5|  31|[3.0,0.0,39.0,1.0...|\n",
            "|       0|     3|  1| 14|    0|    0|   7|[3.0,1.0,14.0,0.0...|\n",
            "|       1|     2|  1| 55|    0|    0|  16|[2.0,1.0,55.0,0.0...|\n",
            "|       0|     3|  0|  2|    4|    1|  29|[3.0,0.0,2.0,4.0,...|\n",
            "|       0|     3|  1| 31|    1|    0|  18|[3.0,1.0,31.0,1.0...|\n",
            "|       0|     2|  0| 35|    0|    0|  26|[2.0,0.0,35.0,0.0...|\n",
            "|       1|     2|  0| 34|    0|    0|  13|[2.0,0.0,34.0,0.0...|\n",
            "|       1|     3|  1| 15|    0|    0|   8|[3.0,1.0,15.0,0.0...|\n",
            "+--------+------+---+---+-----+-----+----+--------------------+\n",
            "only showing top 20 rows\n",
            "\n"
          ]
        }
      ]
    },
    {
      "cell_type": "code",
      "source": [
        "for col in df.columns:\n",
        "    if col != \"features\":\n",
        "        df = df.withColumn(col, (df[col] - mean_values[col]) / stddev_values[col])"
      ],
      "metadata": {
        "id": "7OEMiG73R21k"
      },
      "execution_count": null,
      "outputs": []
    },
    {
      "cell_type": "code",
      "source": [
        "pandas_df = df.select(\"features\", \"Survived\").toPandas()"
      ],
      "metadata": {
        "id": "IsdQxKhT4XxR"
      },
      "execution_count": null,
      "outputs": []
    },
    {
      "cell_type": "code",
      "source": [
        "X = np.array([np.array(row) for row in pandas_df[\"features\"]])\n",
        "y = np.array(pandas_df[\"Survived\"])"
      ],
      "metadata": {
        "id": "cVbAfPQHR-nz"
      },
      "execution_count": null,
      "outputs": []
    },
    {
      "cell_type": "code",
      "source": [
        "knn_classifier = KNeighborsClassifier(n_neighbors=5)"
      ],
      "metadata": {
        "id": "3KvUXBjTSBCJ"
      },
      "execution_count": null,
      "outputs": []
    },
    {
      "cell_type": "code",
      "source": [
        "df = df.withColumn(\"Survived\", df[\"Survived\"].cast(\"integer\"))"
      ],
      "metadata": {
        "id": "-vKAR0uhJBpz"
      },
      "execution_count": null,
      "outputs": []
    },
    {
      "cell_type": "code",
      "source": [
        "pandas_df = df.select(\"features\", \"Survived\").toPandas()\n",
        "\n",
        "X = np.array([np.array(row) for row in pandas_df[\"features\"]])\n",
        "y = np.array(pandas_df[\"Survived\"])"
      ],
      "metadata": {
        "id": "oVLGoY28JFPt"
      },
      "execution_count": null,
      "outputs": []
    },
    {
      "cell_type": "code",
      "source": [
        "knn_classifier = KNeighborsClassifier(n_neighbors=5)\n",
        "\n",
        "cv_scores = cross_val_score(knn_classifier, X, y, cv=5, scoring=\"accuracy\")\n",
        "\n",
        "print(\"Cross-validation scores:\", cv_scores)\n",
        "print(\"Mean accuracy:\", np.mean(cv_scores))"
      ],
      "metadata": {
        "colab": {
          "base_uri": "https://localhost:8080/"
        },
        "id": "Ob7e6Us5JIuo",
        "outputId": "daca4c5d-3bdd-44c8-9beb-fff473d203bf"
      },
      "execution_count": null,
      "outputs": [
        {
          "output_type": "stream",
          "name": "stdout",
          "text": [
            "Cross-validation scores: [0.58041958 0.67832168 0.70629371 0.68531469 0.74647887]\n",
            "Mean accuracy: 0.6793657047178174\n"
          ]
        }
      ]
    },
    {
      "cell_type": "code",
      "source": [
        "train, test = df.randomSplit([0.8, 0.2], seed=42)\n"
      ],
      "metadata": {
        "id": "w2GQfaiVJnt7"
      },
      "execution_count": null,
      "outputs": []
    },
    {
      "cell_type": "code",
      "source": [
        "from pyspark.sql.types import DoubleType\n",
        "\n",
        "\n",
        "predictions_df = spark.createDataFrame(\n",
        "    zip(predictions.tolist(), test.select(\"Survived\").toPandas()[\"Survived\"].tolist()),\n",
        "    [\"prediction\", \"Survived\"]\n",
        ")\n",
        "\n",
        "\n",
        "predictions_df = predictions_df.withColumn(\"prediction\", predictions_df[\"prediction\"].cast(DoubleType()))\n",
        "\n",
        "\n",
        "evaluator = MulticlassClassificationEvaluator(labelCol=\"Survived\")\n",
        "accuracy = evaluator.evaluate(predictions_df, {evaluator.metricName: \"accuracy\"})\n",
        "\n",
        "\n",
        "print(\"Accuracy on the test set:\", accuracy)\n"
      ],
      "metadata": {
        "colab": {
          "base_uri": "https://localhost:8080/"
        },
        "id": "XM636WayJt5z",
        "outputId": "e1936fb8-7c1d-4b50-a520-fea9a01fe005"
      },
      "execution_count": null,
      "outputs": [
        {
          "output_type": "stream",
          "name": "stdout",
          "text": [
            "Accuracy on the test set: 0.7719298245614035\n"
          ]
        }
      ]
    },
    {
      "cell_type": "code",
      "source": [],
      "metadata": {
        "id": "qQ3Ii6ZKKW5r"
      },
      "execution_count": null,
      "outputs": []
    }
  ]
}